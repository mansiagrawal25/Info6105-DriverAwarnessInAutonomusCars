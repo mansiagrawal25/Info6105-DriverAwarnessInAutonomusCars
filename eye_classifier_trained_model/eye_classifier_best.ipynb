{
  "nbformat": 4,
  "nbformat_minor": 0,
  "metadata": {
    "colab": {
      "name": "eye_classifier_best.ipynb",
      "provenance": [],
      "collapsed_sections": []
    },
    "kernelspec": {
      "name": "python3",
      "display_name": "Python 3"
    }
  },
  "cells": [
    {
      "cell_type": "code",
      "metadata": {
        "id": "KENq9jRIa3Ge"
      },
      "source": [
        "from keras.models import load_model"
      ],
      "execution_count": null,
      "outputs": []
    },
    {
      "cell_type": "code",
      "metadata": {
        "id": "C8XBvuEVbVjB"
      },
      "source": [
        "import numpy as np\n",
        "\n",
        "from keras.models import Sequential\n",
        "from keras.layers import Conv2D\n",
        "from keras.layers import AveragePooling2D,Dropout,Flatten\n",
        "from keras.layers import Dense\n",
        "from keras.models import model_from_json\n",
        "from keras.preprocessing.image import ImageDataGenerator"
      ],
      "execution_count": null,
      "outputs": []
    },
    {
      "cell_type": "code",
      "metadata": {
        "id": "miAvYEq7bfTT",
        "colab": {
          "base_uri": "https://localhost:8080/"
        },
        "outputId": "d5b169e3-a1e3-45ef-e634-d0f5729a459b"
      },
      "source": [
        "!unzip  'eye_dataset.zip'"
      ],
      "execution_count": null,
      "outputs": [
        {
          "output_type": "stream",
          "text": [
            "unzip:  cannot find or open eye_dataset.zip, eye_dataset.zip.zip or eye_dataset.zip.ZIP.\n"
          ],
          "name": "stdout"
        }
      ]
    },
    {
      "cell_type": "code",
      "metadata": {
        "id": "VegOKcEfGc0_"
      },
      "source": [
        "from google.colab import drive\n",
        "drive.mount('/content/drive')"
      ],
      "execution_count": null,
      "outputs": []
    },
    {
      "cell_type": "code",
      "metadata": {
        "id": "L209RUKMbgwM"
      },
      "source": [
        "training_dir = 'eye_dataset/training'\n",
        "validation_dir = 'eye_dataset/validation'"
      ],
      "execution_count": null,
      "outputs": []
    },
    {
      "cell_type": "code",
      "metadata": {
        "id": "dMrfXSd_bimu",
        "colab": {
          "base_uri": "https://localhost:8080/",
          "height": 50
        },
        "outputId": "6f3d8794-9cf7-4879-af02-954c46c0bea1"
      },
      "source": [
        "train_datagen = ImageDataGenerator(\n",
        "\t\t\trescale=1./255,\n",
        "\t\t\tshear_range=0.2,\n",
        "\t\t\thorizontal_flip=True \n",
        "\t\t)\n",
        "\n",
        "val_datagen = ImageDataGenerator(\n",
        "\t\t\trescale=1./255,\n",
        "\t\t\tshear_range=0.2,\n",
        "\t\t\thorizontal_flip=True)\n",
        "\n",
        "train_generator = train_datagen.flow_from_directory(\n",
        "\t    directory=training_dir,\n",
        "\t    batch_size=32,\n",
        "      target_size=(24, 24),\n",
        "\t    color_mode=\"grayscale\",\n",
        "\t    class_mode=\"binary\",\n",
        "\t    shuffle=True)\n",
        "\n",
        "val_generator = val_datagen.flow_from_directory(\n",
        "\t    directory=validation_dir,\n",
        "\t    batch_size=32,\n",
        "      target_size=(24, 24),\n",
        "\t    color_mode=\"grayscale\",\n",
        "\t    class_mode=\"binary\",\n",
        "\t    shuffle=True)"
      ],
      "execution_count": null,
      "outputs": [
        {
          "output_type": "stream",
          "text": [
            "Found 3779 images belonging to 2 classes.\n",
            "Found 1067 images belonging to 2 classes.\n"
          ],
          "name": "stdout"
        }
      ]
    },
    {
      "cell_type": "code",
      "metadata": {
        "id": "br_3uEzXbkWQ"
      },
      "source": [
        "from keras.callbacks import EarlyStopping,ModelCheckpoint,ReduceLROnPlateau\n",
        "from keras.preprocessing.image import ImageDataGenerator\n",
        "patience =20\n",
        "\n",
        "#log_file_path = base_path + dataset_name + '_emotion_training.log'\n",
        "#csv_logger = CSVLogger(log_file_path, append=False)\n",
        "early_stop = EarlyStopping('val_loss', patience=patience)\n",
        "reduce_lr = ReduceLROnPlateau('val_loss', factor=0.1,\n",
        "                                  patience=int(patience/4), verbose=1)\n",
        "trained_models_path = 'trained_model_5'\n",
        "model_names = trained_models_path + '.{epoch:02d}.{val_acc:02f}.hdf5'\n",
        "model_checkpoint = ModelCheckpoint(model_names, 'val_loss', verbose=1,\n",
        "                                                    save_best_only=True)\n",
        "callbacks = [model_checkpoint, early_stop, reduce_lr]"
      ],
      "execution_count": null,
      "outputs": []
    },
    {
      "cell_type": "code",
      "metadata": {
        "id": "MoqADKhEa-h8"
      },
      "source": [
        "model = Sequential()\n",
        "\n",
        "model.add(Conv2D(8, kernel_size=(3, 3), activation='relu', input_shape=(24,24,1)))\n",
        "model.add(Conv2D(16, kernel_size=(3, 3), activation='relu'))\n",
        "model.add(AveragePooling2D(pool_size=(2, 2)))\n",
        "model.add(Dropout(0.25))\n",
        "\n",
        "model.add(Conv2D(128, kernel_size=(2, 2), activation='relu'))\n",
        "model.add(AveragePooling2D(pool_size=(2, 2)))\n",
        "model.add(Dropout(0.25))\n",
        "\n",
        "model.add(Flatten())\n",
        "model.add(Dense(512, activation='relu'))\n",
        "model.add(Dropout(0.3))\n",
        "\n",
        "model.add(Dropout(0.3))\n",
        "\n",
        "model.add(Dense(1, activation='sigmoid'))"
      ],
      "execution_count": null,
      "outputs": []
    },
    {
      "cell_type": "code",
      "metadata": {
        "id": "XNp6Z5ImbT5R",
        "colab": {
          "base_uri": "https://localhost:8080/",
          "height": 538
        },
        "outputId": "e1f4367f-845f-4f63-8f04-c26b69274a80"
      },
      "source": [
        "model.summary()"
      ],
      "execution_count": null,
      "outputs": [
        {
          "output_type": "stream",
          "text": [
            "_________________________________________________________________\n",
            "Layer (type)                 Output Shape              Param #   \n",
            "=================================================================\n",
            "conv2d_1 (Conv2D)            (None, 22, 22, 8)         80        \n",
            "_________________________________________________________________\n",
            "conv2d_2 (Conv2D)            (None, 20, 20, 16)        1168      \n",
            "_________________________________________________________________\n",
            "average_pooling2d_1 (Average (None, 10, 10, 16)        0         \n",
            "_________________________________________________________________\n",
            "dropout_1 (Dropout)          (None, 10, 10, 16)        0         \n",
            "_________________________________________________________________\n",
            "conv2d_3 (Conv2D)            (None, 9, 9, 128)         8320      \n",
            "_________________________________________________________________\n",
            "average_pooling2d_2 (Average (None, 4, 4, 128)         0         \n",
            "_________________________________________________________________\n",
            "dropout_2 (Dropout)          (None, 4, 4, 128)         0         \n",
            "_________________________________________________________________\n",
            "flatten_1 (Flatten)          (None, 2048)              0         \n",
            "_________________________________________________________________\n",
            "dense_1 (Dense)              (None, 512)               1049088   \n",
            "_________________________________________________________________\n",
            "dropout_3 (Dropout)          (None, 512)               0         \n",
            "_________________________________________________________________\n",
            "dropout_4 (Dropout)          (None, 512)               0         \n",
            "_________________________________________________________________\n",
            "dense_2 (Dense)              (None, 1)                 513       \n",
            "=================================================================\n",
            "Total params: 1,059,169\n",
            "Trainable params: 1,059,169\n",
            "Non-trainable params: 0\n",
            "_________________________________________________________________\n"
          ],
          "name": "stdout"
        }
      ]
    },
    {
      "cell_type": "code",
      "metadata": {
        "id": "PmTC4DmdbpRH",
        "colab": {
          "base_uri": "https://localhost:8080/",
          "height": 3898
        },
        "outputId": "d2e498c2-22f6-43a2-f13d-93fe8b4056a6"
      },
      "source": [
        "model.compile(loss='binary_crossentropy', optimizer='adam', metrics=['accuracy'])\n",
        "\n",
        "model.fit_generator(generator=train_generator,\n",
        "\t                    steps_per_epoch=250,\n",
        "\t                    validation_data=val_generator,\n",
        "\t                    validation_steps=64,\n",
        "\t                    epochs=100,\n",
        "                      callbacks= callbacks)"
      ],
      "execution_count": null,
      "outputs": [
        {
          "output_type": "stream",
          "text": [
            "Epoch 1/100\n",
            "250/250 [==============================] - 17s 69ms/step - loss: 0.4768 - acc: 0.7621 - val_loss: 0.3123 - val_acc: 0.8689\n",
            "\n",
            "Epoch 00001: val_loss did not improve from 0.08514\n",
            "Epoch 2/100\n",
            "250/250 [==============================] - 16s 65ms/step - loss: 0.2832 - acc: 0.8909 - val_loss: 0.2318 - val_acc: 0.9192\n",
            "\n",
            "Epoch 00002: val_loss did not improve from 0.08514\n",
            "Epoch 3/100\n",
            "250/250 [==============================] - 16s 65ms/step - loss: 0.2300 - acc: 0.9056 - val_loss: 0.1754 - val_acc: 0.9282\n",
            "\n",
            "Epoch 00003: val_loss did not improve from 0.08514\n",
            "Epoch 4/100\n",
            "250/250 [==============================] - 16s 65ms/step - loss: 0.1722 - acc: 0.9322 - val_loss: 0.1858 - val_acc: 0.9265\n",
            "\n",
            "Epoch 00004: val_loss did not improve from 0.08514\n",
            "Epoch 5/100\n",
            "250/250 [==============================] - 16s 65ms/step - loss: 0.1616 - acc: 0.9350 - val_loss: 0.2119 - val_acc: 0.9182\n",
            "\n",
            "Epoch 00005: val_loss did not improve from 0.08514\n",
            "Epoch 6/100\n",
            "250/250 [==============================] - 16s 66ms/step - loss: 0.1459 - acc: 0.9401 - val_loss: 0.1219 - val_acc: 0.9497\n",
            "\n",
            "Epoch 00006: val_loss did not improve from 0.08514\n",
            "Epoch 7/100\n",
            "250/250 [==============================] - 16s 66ms/step - loss: 0.1376 - acc: 0.9460 - val_loss: 0.1358 - val_acc: 0.9462\n",
            "\n",
            "Epoch 00007: val_loss did not improve from 0.08514\n",
            "Epoch 8/100\n",
            "250/250 [==============================] - 16s 66ms/step - loss: 0.1291 - acc: 0.9494 - val_loss: 0.1124 - val_acc: 0.9581\n",
            "\n",
            "Epoch 00008: val_loss did not improve from 0.08514\n",
            "Epoch 9/100\n",
            "250/250 [==============================] - 17s 66ms/step - loss: 0.1246 - acc: 0.9495 - val_loss: 0.1160 - val_acc: 0.9531\n",
            "\n",
            "Epoch 00009: val_loss did not improve from 0.08514\n",
            "Epoch 10/100\n",
            "250/250 [==============================] - 16s 66ms/step - loss: 0.1210 - acc: 0.9526 - val_loss: 0.1311 - val_acc: 0.9462\n",
            "\n",
            "Epoch 00010: val_loss did not improve from 0.08514\n",
            "Epoch 11/100\n",
            "250/250 [==============================] - 17s 69ms/step - loss: 0.1093 - acc: 0.9586 - val_loss: 0.1075 - val_acc: 0.9571\n",
            "\n",
            "Epoch 00011: val_loss did not improve from 0.08514\n",
            "Epoch 12/100\n",
            "250/250 [==============================] - 16s 66ms/step - loss: 0.1024 - acc: 0.9600 - val_loss: 0.1255 - val_acc: 0.9492\n",
            "\n",
            "Epoch 00012: val_loss did not improve from 0.08514\n",
            "Epoch 13/100\n",
            "250/250 [==============================] - 16s 66ms/step - loss: 0.1042 - acc: 0.9592 - val_loss: 0.0992 - val_acc: 0.9635\n",
            "\n",
            "Epoch 00013: val_loss did not improve from 0.08514\n",
            "Epoch 14/100\n",
            "250/250 [==============================] - 16s 65ms/step - loss: 0.0952 - acc: 0.9637 - val_loss: 0.1114 - val_acc: 0.9561\n",
            "\n",
            "Epoch 00014: val_loss did not improve from 0.08514\n",
            "Epoch 15/100\n",
            "250/250 [==============================] - 17s 66ms/step - loss: 0.0976 - acc: 0.9581 - val_loss: 0.1113 - val_acc: 0.9541\n",
            "\n",
            "Epoch 00015: val_loss did not improve from 0.08514\n",
            "Epoch 16/100\n",
            "250/250 [==============================] - 16s 66ms/step - loss: 0.0954 - acc: 0.9640 - val_loss: 0.1034 - val_acc: 0.9561\n",
            "\n",
            "Epoch 00016: val_loss did not improve from 0.08514\n",
            "Epoch 17/100\n",
            "250/250 [==============================] - 16s 65ms/step - loss: 0.0928 - acc: 0.9644 - val_loss: 0.1104 - val_acc: 0.9506\n",
            "\n",
            "Epoch 00017: val_loss did not improve from 0.08514\n",
            "Epoch 18/100\n",
            "250/250 [==============================] - 16s 65ms/step - loss: 0.0872 - acc: 0.9657 - val_loss: 0.1099 - val_acc: 0.9596\n",
            "\n",
            "Epoch 00018: val_loss did not improve from 0.08514\n",
            "\n",
            "Epoch 00018: ReduceLROnPlateau reducing learning rate to 0.00010000000474974513.\n",
            "Epoch 19/100\n",
            "250/250 [==============================] - 16s 64ms/step - loss: 0.0759 - acc: 0.9691 - val_loss: 0.0998 - val_acc: 0.9606\n",
            "\n",
            "Epoch 00019: val_loss did not improve from 0.08514\n",
            "Epoch 20/100\n",
            "250/250 [==============================] - 16s 64ms/step - loss: 0.0732 - acc: 0.9716 - val_loss: 0.0926 - val_acc: 0.9616\n",
            "\n",
            "Epoch 00020: val_loss did not improve from 0.08514\n",
            "Epoch 21/100\n",
            "250/250 [==============================] - 16s 65ms/step - loss: 0.0695 - acc: 0.9727 - val_loss: 0.0929 - val_acc: 0.9615\n",
            "\n",
            "Epoch 00021: val_loss did not improve from 0.08514\n",
            "Epoch 22/100\n",
            "250/250 [==============================] - 16s 65ms/step - loss: 0.0717 - acc: 0.9738 - val_loss: 0.0960 - val_acc: 0.9616\n",
            "\n",
            "Epoch 00022: val_loss did not improve from 0.08514\n",
            "Epoch 23/100\n",
            "250/250 [==============================] - 16s 65ms/step - loss: 0.0689 - acc: 0.9756 - val_loss: 0.0900 - val_acc: 0.9651\n",
            "\n",
            "Epoch 00023: val_loss did not improve from 0.08514\n",
            "Epoch 24/100\n",
            "250/250 [==============================] - 16s 65ms/step - loss: 0.0664 - acc: 0.9744 - val_loss: 0.1015 - val_acc: 0.9621\n",
            "\n",
            "Epoch 00024: val_loss did not improve from 0.08514\n",
            "Epoch 25/100\n",
            "250/250 [==============================] - 16s 65ms/step - loss: 0.0644 - acc: 0.9775 - val_loss: 0.0929 - val_acc: 0.9631\n",
            "\n",
            "Epoch 00025: val_loss did not improve from 0.08514\n",
            "Epoch 26/100\n",
            "250/250 [==============================] - 16s 66ms/step - loss: 0.0604 - acc: 0.9770 - val_loss: 0.0981 - val_acc: 0.9631\n",
            "\n",
            "Epoch 00026: val_loss did not improve from 0.08514\n",
            "Epoch 27/100\n",
            "250/250 [==============================] - 16s 66ms/step - loss: 0.0648 - acc: 0.9770 - val_loss: 0.0963 - val_acc: 0.9601\n",
            "\n",
            "Epoch 00027: val_loss did not improve from 0.08514\n",
            "Epoch 28/100\n",
            "250/250 [==============================] - 16s 65ms/step - loss: 0.0653 - acc: 0.9757 - val_loss: 0.0966 - val_acc: 0.9631\n",
            "\n",
            "Epoch 00028: val_loss did not improve from 0.08514\n",
            "\n",
            "Epoch 00028: ReduceLROnPlateau reducing learning rate to 1.0000000474974514e-05.\n",
            "Epoch 29/100\n",
            "250/250 [==============================] - 16s 66ms/step - loss: 0.0635 - acc: 0.9759 - val_loss: 0.0932 - val_acc: 0.9646\n",
            "\n",
            "Epoch 00029: val_loss did not improve from 0.08514\n",
            "Epoch 30/100\n",
            "250/250 [==============================] - 17s 69ms/step - loss: 0.0598 - acc: 0.9754 - val_loss: 0.1001 - val_acc: 0.9630\n",
            "\n",
            "Epoch 00030: val_loss did not improve from 0.08514\n",
            "Epoch 31/100\n",
            "250/250 [==============================] - 17s 67ms/step - loss: 0.0634 - acc: 0.9757 - val_loss: 0.1022 - val_acc: 0.9616\n",
            "\n",
            "Epoch 00031: val_loss did not improve from 0.08514\n",
            "Epoch 32/100\n",
            "250/250 [==============================] - 17s 67ms/step - loss: 0.0595 - acc: 0.9772 - val_loss: 0.0987 - val_acc: 0.9626\n",
            "\n",
            "Epoch 00032: val_loss did not improve from 0.08514\n",
            "Epoch 33/100\n",
            "250/250 [==============================] - 17s 66ms/step - loss: 0.0643 - acc: 0.9764 - val_loss: 0.1062 - val_acc: 0.9591\n",
            "\n",
            "Epoch 00033: val_loss did not improve from 0.08514\n",
            "\n",
            "Epoch 00033: ReduceLROnPlateau reducing learning rate to 1.0000000656873453e-06.\n",
            "Epoch 34/100\n",
            "250/250 [==============================] - 17s 67ms/step - loss: 0.0594 - acc: 0.9786 - val_loss: 0.0872 - val_acc: 0.9666\n",
            "\n",
            "Epoch 00034: val_loss did not improve from 0.08514\n",
            "Epoch 35/100\n",
            "250/250 [==============================] - 16s 66ms/step - loss: 0.0633 - acc: 0.9755 - val_loss: 0.1049 - val_acc: 0.9606\n",
            "\n",
            "Epoch 00035: val_loss did not improve from 0.08514\n",
            "Epoch 36/100\n",
            "250/250 [==============================] - 16s 66ms/step - loss: 0.0617 - acc: 0.9750 - val_loss: 0.0880 - val_acc: 0.9651\n",
            "\n",
            "Epoch 00036: val_loss did not improve from 0.08514\n",
            "Epoch 37/100\n",
            "250/250 [==============================] - 16s 66ms/step - loss: 0.0616 - acc: 0.9764 - val_loss: 0.1035 - val_acc: 0.9601\n",
            "\n",
            "Epoch 00037: val_loss did not improve from 0.08514\n",
            "Epoch 38/100\n",
            "250/250 [==============================] - 16s 66ms/step - loss: 0.0623 - acc: 0.9745 - val_loss: 0.0882 - val_acc: 0.9669\n",
            "\n",
            "Epoch 00038: val_loss did not improve from 0.08514\n",
            "Epoch 39/100\n",
            "250/250 [==============================] - 16s 65ms/step - loss: 0.0645 - acc: 0.9722 - val_loss: 0.0960 - val_acc: 0.9626\n",
            "\n",
            "Epoch 00039: val_loss did not improve from 0.08514\n",
            "\n",
            "Epoch 00039: ReduceLROnPlateau reducing learning rate to 1.0000001111620805e-07.\n",
            "Epoch 40/100\n",
            "250/250 [==============================] - 16s 65ms/step - loss: 0.0571 - acc: 0.9764 - val_loss: 0.0975 - val_acc: 0.9636\n",
            "\n",
            "Epoch 00040: val_loss did not improve from 0.08514\n",
            "Epoch 41/100\n",
            "250/250 [==============================] - 16s 65ms/step - loss: 0.0630 - acc: 0.9786 - val_loss: 0.1000 - val_acc: 0.9621\n",
            "\n",
            "Epoch 00041: val_loss did not improve from 0.08514\n",
            "Epoch 42/100\n",
            "250/250 [==============================] - 16s 65ms/step - loss: 0.0601 - acc: 0.9777 - val_loss: 0.0949 - val_acc: 0.9666\n",
            "\n",
            "Epoch 00042: val_loss did not improve from 0.08514\n",
            "Epoch 43/100\n",
            "250/250 [==============================] - 16s 65ms/step - loss: 0.0602 - acc: 0.9767 - val_loss: 0.0890 - val_acc: 0.9671\n",
            "\n",
            "Epoch 00043: val_loss did not improve from 0.08514\n",
            "Epoch 44/100\n",
            "250/250 [==============================] - 17s 67ms/step - loss: 0.0596 - acc: 0.9767 - val_loss: 0.0890 - val_acc: 0.9616\n",
            "\n",
            "Epoch 00044: val_loss did not improve from 0.08514\n",
            "\n",
            "Epoch 00044: ReduceLROnPlateau reducing learning rate to 1.000000082740371e-08.\n",
            "Epoch 45/100\n",
            "250/250 [==============================] - 17s 67ms/step - loss: 0.0626 - acc: 0.9774 - val_loss: 0.0952 - val_acc: 0.9631\n",
            "\n",
            "Epoch 00045: val_loss did not improve from 0.08514\n",
            "Epoch 46/100\n",
            "250/250 [==============================] - 17s 67ms/step - loss: 0.0629 - acc: 0.9762 - val_loss: 0.0891 - val_acc: 0.9636\n",
            "\n",
            "Epoch 00046: val_loss did not improve from 0.08514\n",
            "Epoch 47/100\n",
            "250/250 [==============================] - 17s 66ms/step - loss: 0.0646 - acc: 0.9765 - val_loss: 0.0913 - val_acc: 0.9650\n",
            "\n",
            "Epoch 00047: val_loss did not improve from 0.08514\n",
            "Epoch 48/100\n",
            "250/250 [==============================] - 16s 66ms/step - loss: 0.0627 - acc: 0.9740 - val_loss: 0.0941 - val_acc: 0.9646\n",
            "\n",
            "Epoch 00048: val_loss did not improve from 0.08514\n",
            "Epoch 49/100\n",
            "250/250 [==============================] - 17s 68ms/step - loss: 0.0627 - acc: 0.9764 - val_loss: 0.0942 - val_acc: 0.9641\n",
            "\n",
            "Epoch 00049: val_loss did not improve from 0.08514\n",
            "\n",
            "Epoch 00049: ReduceLROnPlateau reducing learning rate to 1.000000082740371e-09.\n",
            "Epoch 50/100\n",
            "250/250 [==============================] - 17s 66ms/step - loss: 0.0582 - acc: 0.9780 - val_loss: 0.0928 - val_acc: 0.9641\n",
            "\n",
            "Epoch 00050: val_loss did not improve from 0.08514\n",
            "Epoch 51/100\n",
            "250/250 [==============================] - 17s 66ms/step - loss: 0.0628 - acc: 0.9765 - val_loss: 0.0946 - val_acc: 0.9676\n",
            "\n",
            "Epoch 00051: val_loss did not improve from 0.08514\n",
            "Epoch 52/100\n",
            "250/250 [==============================] - 17s 67ms/step - loss: 0.0610 - acc: 0.9772 - val_loss: 0.0919 - val_acc: 0.9641\n",
            "\n",
            "Epoch 00052: val_loss did not improve from 0.08514\n",
            "Epoch 53/100\n",
            "250/250 [==============================] - 17s 66ms/step - loss: 0.0612 - acc: 0.9769 - val_loss: 0.1050 - val_acc: 0.9621\n",
            "\n",
            "Epoch 00053: val_loss did not improve from 0.08514\n",
            "Epoch 54/100\n",
            "250/250 [==============================] - 16s 65ms/step - loss: 0.0675 - acc: 0.9721 - val_loss: 0.0927 - val_acc: 0.9646\n",
            "\n",
            "Epoch 00054: val_loss did not improve from 0.08514\n",
            "\n",
            "Epoch 00054: ReduceLROnPlateau reducing learning rate to 1.000000082740371e-10.\n"
          ],
          "name": "stdout"
        },
        {
          "output_type": "execute_result",
          "data": {
            "text/plain": [
              "<keras.callbacks.History at 0x7fe4f8f61908>"
            ]
          },
          "metadata": {
            "tags": []
          },
          "execution_count": 13
        }
      ]
    },
    {
      "cell_type": "code",
      "metadata": {
        "id": "xluNGaXdbpqN"
      },
      "source": [
        "import matplotlib.pyplot as plt\n",
        "def plotter(trained_record):\n",
        "    # Loss Curves\n",
        "    plt.figure(figsize=[8,6])\n",
        "    plt.plot(trained_record.history['loss'],'r',linewidth=3.0)\n",
        "    plt.plot(trained_record.history['val_loss'],'b',linewidth=3.0)\n",
        "    plt.legend(['Training loss', 'Validation Loss'],fontsize=18)\n",
        "    plt.xlabel('Epochs ',fontsize=16)\n",
        "    plt.ylabel('Loss',fontsize=16)\n",
        "    plt.title('Loss Curves',fontsize=16)\n",
        "    plt.savefig('loss.png')\n",
        "    # Accuracy Curves\n",
        "    plt.figure(figsize=[8,6])\n",
        "    plt.plot(trained_record.history['acc'],'r',linewidth=3.0)\n",
        "    plt.plot(trained_record.history['val_acc'],'b',linewidth=3.0)\n",
        "    plt.legend(['Training Accuracy', 'Validation Accuracy'],fontsize=18)\n",
        "    plt.xlabel('Epochs ',fontsize=16)\n",
        "    plt.ylabel('Accuracy',fontsize=16)\n",
        "    plt.title('Accuracy Curves',fontsize=16)\n",
        "    plt.savefig('accuracy.png')"
      ],
      "execution_count": null,
      "outputs": []
    },
    {
      "cell_type": "code",
      "metadata": {
        "id": "R96BMdxfydmH"
      },
      "source": [
        "model_json = model.to_json()\n",
        "with open(\"model_5.json\", \"w\") as json_file:\n",
        "  json_file.write(model_json)\n",
        "# serialize weights to HDF5\n",
        "model.save_weights(\"model5.h5\")"
      ],
      "execution_count": null,
      "outputs": []
    },
    {
      "cell_type": "code",
      "metadata": {
        "id": "MirSUOxyykbo"
      },
      "source": [
        ""
      ],
      "execution_count": null,
      "outputs": []
    }
  ]
}